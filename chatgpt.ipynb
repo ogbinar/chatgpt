{
 "cells": [
  {
   "cell_type": "markdown",
   "id": "ba336496",
   "metadata": {},
   "source": [
    "https://github.com/ogbinar"
   ]
  },
  {
   "cell_type": "markdown",
   "id": "d34676c7",
   "metadata": {},
   "source": [
    "# What is GPT?"
   ]
  },
  {
   "cell_type": "markdown",
   "id": "1dfbf54d",
   "metadata": {},
   "source": [
    "* ***GPT stands for \"Generative Pre-trained Transformer,\" which refers to a family of language models developed by OpenAI***. These models are designed to understand and generate human-like text based on the input they receive. GPT models are built using a deep learning architecture called transformers, which allow them to process and generate text at a high level of sophistication.\n",
    "\n",
    "* ***The key feature of GPT models is their ability to generate coherent and contextually relevant responses based on the given input***. They are trained on large amounts of text data from the internet, which helps them learn the statistical patterns and structures of language. This pre-training phase helps the models capture a broad understanding of grammar, syntax, and semantic relationships.\n",
    "\n",
    "* ***Once pre-training is complete, GPT models can be fine-tuned on specific tasks or domains to further enhance their performance***. These models have been used for a wide range of applications, such as language translation, text completion, question answering, chatbots, and more."
   ]
  },
  {
   "cell_type": "markdown",
   "id": "109d0e22",
   "metadata": {},
   "source": [
    "# What is CHAT GPT?"
   ]
  },
  {
   "cell_type": "markdown",
   "id": "e6799cba",
   "metadata": {},
   "source": [
    "* ***ChatGPT is a variant of the GPT (Generative Pre-trained Transformer) language model developed by OpenAI***. It is specifically designed to generate conversational responses and engage in interactive dialogues with users. While the underlying architecture of ChatGPT is similar to other GPT models, its training process involves reinforcement learning from human feedback to improve the quality and relevance of its responses.\n",
    "\n",
    "* ***ChatGPT has been trained on a vast amount of text data, allowing it to understand and generate human-like text in a conversational context***. It can handle a wide range of topics and can provide information, answer questions, hold conversations, and offer suggestions based on the input it receives.\n",
    "\n",
    "* ***OpenAI has made various iterations of ChatGPT available for public use, starting with GPT-2 and followed by GPT-3, which is the most advanced version as of my knowledge cutoff in September 2021***. GPT-3 is known for its impressive language generation capabilities and has been used in applications like chatbots, virtual assistants, content generation, and more."
   ]
  },
  {
   "cell_type": "markdown",
   "id": "ed784175",
   "metadata": {},
   "source": [
    "# What is a chat bot?"
   ]
  },
  {
   "cell_type": "markdown",
   "id": "beaf31ec",
   "metadata": {},
   "source": [
    "* ***A chatbot is a computer program or an AI application designed to simulate human conversation and interact with users through text or speech-based interfaces***. It uses natural language processing (NLP) and machine learning techniques to understand user queries and generate appropriate responses.\n",
    "\n",
    "* ***ChatGPT can be used as the foundation for building a customer chatbot***. By integrating ChatGPT with a user interface and backend systems, you can create a chatbot that can handle customer inquiries, provide information, and engage in interactive conversations."
   ]
  },
  {
   "cell_type": "markdown",
   "id": "f574843b",
   "metadata": {},
   "source": [
    "# How to build a ChatGPT Chatbot"
   ]
  },
  {
   "cell_type": "markdown",
   "id": "65a5b5d3",
   "metadata": {},
   "source": [
    "1. ***Design the conversation flow***: Determine the types of customer queries or interactions your chatbot will handle. Define the key intents and responses you want your chatbot to provide.\n",
    "\n",
    "2. ***Collect training data***: Gather a dataset of example conversations that reflect the types of interactions your chatbot will encounter. These conversations should include user inputs and corresponding desired bot responses.\n",
    "\n",
    "3. ***Fine-tune ChatGPT***: Use the collected dataset to fine-tune the ChatGPT model. This process involves training the model on your specific task or domain to make its responses more relevant and suitable for customer interactions.\n",
    "\n",
    "4. ***Develop the chatbot interface***: Create the user interface through which customers will interact with the chatbot. This could be a web-based interface, a messaging platform, or any other suitable medium.\n",
    "\n",
    "5. ***Integrate backend systems***: Connect the chatbot to your backend systems or APIs if necessary. This enables the chatbot to access relevant information or perform specific actions on behalf of the customer.\n",
    "\n",
    "6. ***deploy and test***: Deploy the chatbot to a server or cloud platform and test it thoroughly to ensure it functions as intended. Monitor its performance and gather feedback to continually improve and refine its responses."
   ]
  },
  {
   "cell_type": "markdown",
   "id": "3dc222f7",
   "metadata": {},
   "source": [
    "# IMPORTANT: Get an OpenAI ChatGPT API key first!"
   ]
  },
  {
   "cell_type": "markdown",
   "id": "e71426fa",
   "metadata": {},
   "source": [
    "1. create an account in https://openai.com\n",
    "\n",
    "OpenAI provides a 5usd trial credits that can be used for their api keys. I needs to be used 2-3 months upon registration or it will expire. 5usd is a LOT for testing purposes. \n",
    "\n",
    "2. create an API key in https://platform.openai.com/account/api-keys\n",
    "3. create a YAML file to store your API key e.g. secret.yaml\n",
    "\n",
    "yaml format should be \"key : value\" in text and place in the same folder as your python scripts"
   ]
  },
  {
   "cell_type": "markdown",
   "id": "21f40294",
   "metadata": {},
   "source": [
    "You can experiment and test your key with https://turbogpt.ai/ but otherwise don't share your key with anyone else!"
   ]
  },
  {
   "cell_type": "markdown",
   "id": "37024647",
   "metadata": {},
   "source": [
    "# Let's make a BASIC chat bot!"
   ]
  },
  {
   "cell_type": "markdown",
   "id": "3dcae3c8",
   "metadata": {},
   "source": [
    "4. configure your chatbot to use your API\n",
    "5. Train and test your chatbot"
   ]
  },
  {
   "cell_type": "code",
   "execution_count": 9,
   "id": "803c3afb",
   "metadata": {},
   "outputs": [],
   "source": [
    "import openai # pip install openai\n",
    "import yaml \n",
    "import json"
   ]
  },
  {
   "cell_type": "code",
   "execution_count": 3,
   "id": "3e251261",
   "metadata": {},
   "outputs": [],
   "source": [
    "# load your chatGPT api key via yaml\n",
    "\n",
    "with open(\"secret.yaml\", mode=\"rb\") as file:\n",
    "    SECRET=yaml.safe_load(file)\n"
   ]
  },
  {
   "cell_type": "code",
   "execution_count": 5,
   "id": "4c7a480c",
   "metadata": {},
   "outputs": [],
   "source": [
    "# api key\n",
    "openai.api_key = SECRET['key']"
   ]
  },
  {
   "cell_type": "markdown",
   "id": "e44a127e",
   "metadata": {},
   "source": [
    "There are a lot of models that can be used in ChatGPT, you can explore their features and pricing here: https://openai.com/pricing"
   ]
  },
  {
   "cell_type": "code",
   "execution_count": 8,
   "id": "0dd8faca",
   "metadata": {
    "scrolled": true
   },
   "outputs": [
    {
     "name": "stdout",
     "output_type": "stream",
     "text": [
      "model - whisper-1\n",
      "model - babbage\n",
      "model - davinci\n",
      "model - text-davinci-edit-001\n",
      "model - babbage-code-search-code\n",
      "model - text-similarity-babbage-001\n",
      "model - code-davinci-edit-001\n",
      "model - text-davinci-001\n",
      "model - ada\n",
      "model - babbage-code-search-text\n",
      "model - babbage-similarity\n",
      "model - code-search-babbage-text-001\n",
      "model - text-curie-001\n",
      "model - code-search-babbage-code-001\n",
      "model - text-ada-001\n",
      "model - text-similarity-ada-001\n",
      "model - curie-instruct-beta\n",
      "model - ada-code-search-code\n",
      "model - ada-similarity\n",
      "model - text-embedding-ada-002\n",
      "model - code-search-ada-text-001\n",
      "model - text-search-ada-query-001\n",
      "model - davinci-search-document\n",
      "model - ada-code-search-text\n",
      "model - text-search-ada-doc-001\n",
      "model - davinci-instruct-beta\n",
      "model - text-similarity-curie-001\n",
      "model - code-search-ada-code-001\n",
      "model - ada-search-query\n",
      "model - text-search-davinci-query-001\n",
      "model - curie-search-query\n",
      "model - davinci-search-query\n",
      "model - babbage-search-document\n",
      "model - ada-search-document\n",
      "model - text-search-curie-query-001\n",
      "model - text-search-babbage-doc-001\n",
      "model - gpt-3.5-turbo\n",
      "model - text-davinci-003\n",
      "model - curie-search-document\n",
      "model - text-search-curie-doc-001\n",
      "model - babbage-search-query\n",
      "model - text-babbage-001\n",
      "model - text-search-davinci-doc-001\n",
      "model - text-search-babbage-query-001\n",
      "model - curie-similarity\n",
      "model - gpt-3.5-turbo-0301\n",
      "model - curie\n",
      "model - text-similarity-davinci-001\n",
      "model - text-davinci-002\n",
      "model - davinci-similarity\n",
      "model - cushman:2020-05-03\n",
      "model - ada:2020-05-03\n",
      "model - babbage:2020-05-03\n",
      "model - curie:2020-05-03\n",
      "model - davinci:2020-05-03\n",
      "model - if-davinci-v2\n",
      "model - if-curie-v2\n",
      "model - if-davinci:3.0.0\n",
      "model - davinci-if:3.0.0\n",
      "model - davinci-instruct-beta:2.0.0\n",
      "model - text-ada:001\n",
      "model - text-davinci:001\n",
      "model - text-curie:001\n",
      "model - text-babbage:001\n"
     ]
    }
   ],
   "source": [
    "# list models\n",
    "models = openai.Model.list()\n",
    "\n",
    "for i in models['data']:\n",
    "    print(json.loads(str(i))['object']+\" - \"+json.loads(str(i))['root'])"
   ]
  },
  {
   "cell_type": "code",
   "execution_count": 45,
   "id": "043464bc",
   "metadata": {},
   "outputs": [],
   "source": [
    "# Let's use the \"gpt-3.5-turbo\" model\n",
    "model_engine = \"gpt-3.5-turbo\""
   ]
  },
  {
   "cell_type": "markdown",
   "id": "fa2a80a8",
   "metadata": {},
   "source": [
    "# Messages in ChatGPT"
   ]
  },
  {
   "cell_type": "markdown",
   "id": "c4a7a1f2",
   "metadata": {},
   "source": [
    "There are 3 types of message content in ChatGPT:\n",
    "- ***System***: Are messages simply designed to instruct the bot. This helps set the context, the role, and expectations for how the bot is meant to act and converse with the user. Make this the first message in the context. \n",
    "- ***User***: Are messages coming from the user (or what type of messages the bot should expect from ther user)\n",
    "- ***Assistant***: Are messages that \"simulates\" how the bot should behave\n",
    "\n",
    "The above information can be used to further train and customize your bot on how it behaves during a conversation with a user."
   ]
  },
  {
   "cell_type": "markdown",
   "id": "d313257b",
   "metadata": {},
   "source": [
    "# The Chat Context and Tokens\n",
    "* The whole chat history is always sent to ChatGPT to ensure it is able to keep track of the context of the conversation.\n",
    "* Each model differs by the size of the context (chat history) measured in tokens. \n",
    "* The number of tokens are the key driver for how much processing ChatGPT takes in order to generate a reply as well as the pricing of the API call. \n",
    "* The larger the context and therefore tokens, the more complicated the processing required.\n",
    "* As an example GPT 3.5 Turbo is limited to 4,096 while  GPT 4 has a limit of 8,192."
   ]
  },
  {
   "cell_type": "code",
   "execution_count": null,
   "id": "48bd7ed1",
   "metadata": {},
   "outputs": [],
   "source": [
    "# set your input text\n",
    "input_text = \"hello can you help me, i am myk\"\n",
    "\n",
    "# Send an API request and get a response, note that the interface and parameters have changed compared to the old model\n",
    "response = openai.ChatCompletion.create(\n",
    "   model=model_engine,\n",
    "    \n",
    "    \n",
    "   messages=[            \n",
    "        {\"role\": \"system\", \"content\": \"you are Eliza, a chatbot therapist\"},\n",
    "        {\"role\": \"system\", \"content\": \"introduce yourself and ask the user how they are\"},\n",
    "        {\"role\": \"user\", \"content\": input_text }\n",
    "            \n",
    "            ]\n",
    ")"
   ]
  },
  {
   "cell_type": "markdown",
   "id": "108f1389",
   "metadata": {},
   "source": [
    "# What does the API reply look like?"
   ]
  },
  {
   "cell_type": "code",
   "execution_count": 47,
   "id": "be95769e",
   "metadata": {},
   "outputs": [
    {
     "data": {
      "text/plain": [
       "<OpenAIObject chat.completion id=chatcmpl-7HSRxkT5G9M7vWXNFFvVYEXMLJ2Tu at 0x22ffebd72c0> JSON: {\n",
       "  \"choices\": [\n",
       "    {\n",
       "      \"finish_reason\": \"stop\",\n",
       "      \"index\": 0,\n",
       "      \"message\": {\n",
       "        \"content\": \"Hello Myk, I'm Eliza, a chatbot therapist. I'm here to listen and help if you need it. How are you feeling today?\",\n",
       "        \"role\": \"assistant\"\n",
       "      }\n",
       "    }\n",
       "  ],\n",
       "  \"created\": 1684395293,\n",
       "  \"id\": \"chatcmpl-7HSRxkT5G9M7vWXNFFvVYEXMLJ2Tu\",\n",
       "  \"model\": \"gpt-3.5-turbo-0301\",\n",
       "  \"object\": \"chat.completion\",\n",
       "  \"usage\": {\n",
       "    \"completion_tokens\": 32,\n",
       "    \"prompt_tokens\": 47,\n",
       "    \"total_tokens\": 79\n",
       "  }\n",
       "}"
      ]
     },
     "execution_count": 47,
     "metadata": {},
     "output_type": "execute_result"
    }
   ],
   "source": [
    "response"
   ]
  },
  {
   "cell_type": "code",
   "execution_count": 51,
   "id": "a8a04bf2",
   "metadata": {
    "scrolled": true
   },
   "outputs": [
    {
     "data": {
      "text/plain": [
       "\"Hello Myk, I'm Eliza, a chatbot therapist. I'm here to listen and help if you need it. How are you feeling today?\""
      ]
     },
     "execution_count": 51,
     "metadata": {},
     "output_type": "execute_result"
    }
   ],
   "source": [
    "response['choices'][0]['message']['content']"
   ]
  },
  {
   "cell_type": "markdown",
   "id": "4160b476",
   "metadata": {},
   "source": [
    "# What's Next? Let's meet PunnyGPT\n",
    "\n",
    "6. sample local deployment using streamlit\n",
    "7. sample cloud deployment using databutton"
   ]
  },
  {
   "cell_type": "markdown",
   "id": "7efaf370",
   "metadata": {},
   "source": [
    "# What is Streamlit"
   ]
  },
  {
   "cell_type": "markdown",
   "id": "30649f7a",
   "metadata": {},
   "source": [
    "* ***Streamlit is an open-source Python library that allows developers to create interactive web applications and data dashboards with ease.***\n",
    "* It simplifies the process of building web interfaces for machine learning models, data visualizations, and other data-driven applications."
   ]
  },
  {
   "cell_type": "markdown",
   "id": "20de03a3",
   "metadata": {},
   "source": [
    "![Alt text](https://images.ctfassets.net/23aumh6u8s0i/5OiwT9pdHIPmHuIYnt4n8X/5c9f170769c10284cb71ca2d4a4b2cc7/06_structure-zero-app.png)"
   ]
  },
  {
   "cell_type": "markdown",
   "id": "0591731a",
   "metadata": {},
   "source": [
    "Streamlit allows quick prototyping for both backend and frontend components of an application, we will use this as a programming framework of our chat bot to quickly allow up to develop an app."
   ]
  },
  {
   "cell_type": "markdown",
   "id": "9a246eb1",
   "metadata": {},
   "source": [
    "# Using Streamlit\n",
    "\n",
    "1. Install streamlit via pip installs streamlit\n",
    "2. open anaconda prompt (or terminal)\n",
    "3. run chat bot streamlit example:\n",
    "\n",
    "***streamlit run chatbot_streamlit.py***"
   ]
  },
  {
   "cell_type": "markdown",
   "id": "7a832d15",
   "metadata": {},
   "source": [
    "  You can now view your Streamlit app in your browser.\n",
    "\n",
    "* Local URL: http://localhost:8501\n",
    "* Network URL: http://192.168.243.151:8501"
   ]
  },
  {
   "cell_type": "markdown",
   "id": "2134d681",
   "metadata": {},
   "source": [
    "Select the newly opened browser and test out the example chat bot!"
   ]
  },
  {
   "cell_type": "markdown",
   "id": "44df732c",
   "metadata": {},
   "source": [
    "# Deploy your Streamlit app via Cloud"
   ]
  },
  {
   "cell_type": "markdown",
   "id": "1222aa58",
   "metadata": {},
   "source": [
    "Deploying web applications built with Python in the cloud offers several advantages:\n",
    "\n",
    "1. Scalability\n",
    "2. Reliability and Availability\n",
    "3. Cost Efficiency\n",
    "4. Easy Deployment and Management\n",
    "5. Geographic Distribution\n",
    "6. Integration with Other Cloud Services\n",
    "\n",
    "Overall, deploying Python web applications in the cloud provides scalability, reliability, cost efficiency, ease of management, geographic distribution, and access to various cloud services. These benefits make it an attractive option for developers looking to deploy and run their web apps in a flexible and efficient manner.\n",
    "\n",
    "Some popular python hosting sites: https://www.linkedin.com/pulse/4-best-free-hosting-python-application-host-your-app-kashyap-/"
   ]
  },
  {
   "cell_type": "markdown",
   "id": "7e4719bb",
   "metadata": {},
   "source": [
    "# Using DataButton"
   ]
  },
  {
   "cell_type": "markdown",
   "id": "f1804223",
   "metadata": {},
   "source": [
    "* ***Databutton is an online workspace for creating full stack data powered web apps in Python***.\n",
    "* With Databutton, you don't need to learn web development, wrestle with Python environments, or struggle trying to get stuff deployed.\n",
    "* Instead, you can code the whole stack online, right in your browser, with hot-reloading.\n",
    "* https://www.databutton.io/"
   ]
  },
  {
   "cell_type": "markdown",
   "id": "d839bcaa",
   "metadata": {},
   "source": [
    "1. New Blank App\n",
    "2. Click Blank Template to rename \"My ChatBot\"\n",
    "3. copy paste code\n",
    "4. click configure (left menu bar). \n",
    "5. add a secret named: OPENAI_API_KEY and input your key in value\n",
    "6. make sure to include all relevant packages \n",
    "7. click pages\n",
    "8. click Deploy app\n",
    "9. click share and open a new browser with the link"
   ]
  },
  {
   "cell_type": "markdown",
   "id": "7b729045",
   "metadata": {},
   "source": [
    "# San Miguel Store"
   ]
  },
  {
   "cell_type": "markdown",
   "id": "4d7bb024",
   "metadata": {},
   "source": [
    "Let's do a more specific application of a chatbot to get you guys excited."
   ]
  },
  {
   "cell_type": "markdown",
   "id": "13051717",
   "metadata": {},
   "source": [
    "# Optimizing and Customizing your bot further"
   ]
  },
  {
   "cell_type": "markdown",
   "id": "34601023",
   "metadata": {},
   "source": [
    "1. Be clear with your instructions by ensuring proper framing of your use case\n",
    "2. Learn how to optimize your prompts thru https://learnprompting.org\n",
    "3. In some cases, it's easier to show the model what you want rather than tell the model what you want. One way to show the model what you want is with faked example messages.\n",
    "4. Manage your model limitations (and costs) by doing simulations and counting tokens\n",
    "* https://github.com/openai/openai-cookbook/blob/3b843142a8ce229f2adb0ffe605709b40b2f8a6d/examples/How_to_count_tokens_with_tiktoken.ipynb"
   ]
  },
  {
   "cell_type": "markdown",
   "id": "d473aae9",
   "metadata": {},
   "source": [
    "# What crazy chat bot applcations can you think to try to develop using ChatGPT?"
   ]
  },
  {
   "cell_type": "markdown",
   "id": "bc587ad0",
   "metadata": {},
   "source": [
    "# References\n",
    "* Example ChatGPT applications https://platform.openai.com/examples\n",
    "* Awesome Prompts https://github.com/f/awesome-chatgpt-prompts\n",
    "* General GPT applications using OpenAI Models https://github.com/openai/openai-cookbook\n",
    "* Basic configuration of ChatGPT https://github.com/openai/openai-cookbook/blob/main/examples/How_to_format_inputs_to_ChatGPT_models.ipynb\n",
    "* How langchains help GPT apps https://medium.com/@avra42/how-to-build-a-chatbot-with-chatgpt-api-and-a-conversational-memory-in-python-8d856cda4542\n",
    "* Building a ChatGPT bot using Streamlit https://betterprogramming.pub/build-a-custom-chatbot-using-chatgpt-api-and-streamlit-c86ad4ef9b35\n",
    "* Awesome ChatGPT Resources https://github.com/awesome-chatgpt/awesome-chatgpt"
   ]
  },
  {
   "cell_type": "code",
   "execution_count": null,
   "id": "ecfb6e97",
   "metadata": {},
   "outputs": [],
   "source": []
  }
 ],
 "metadata": {
  "kernelspec": {
   "display_name": "Python 3 (ipykernel)",
   "language": "python",
   "name": "python3"
  },
  "language_info": {
   "codemirror_mode": {
    "name": "ipython",
    "version": 3
   },
   "file_extension": ".py",
   "mimetype": "text/x-python",
   "name": "python",
   "nbconvert_exporter": "python",
   "pygments_lexer": "ipython3",
   "version": "3.9.12"
  }
 },
 "nbformat": 4,
 "nbformat_minor": 5
}
